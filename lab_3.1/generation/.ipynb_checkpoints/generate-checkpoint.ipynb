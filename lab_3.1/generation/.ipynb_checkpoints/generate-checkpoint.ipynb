{
 "cells": [
  {
   "cell_type": "code",
   "execution_count": 45,
   "metadata": {},
   "outputs": [],
   "source": [
    "import pandas as pd\n",
    "import random\n",
    "import string\n",
    "import datetime\n",
    "import json"
   ]
  },
  {
   "cell_type": "code",
   "execution_count": 46,
   "metadata": {},
   "outputs": [],
   "source": [
    "def generate_phone():\n",
    "    return(''.join([\"{}\".format(random.randint(0, 9)) for num in range(0, 10)]))"
   ]
  },
  {
   "cell_type": "code",
   "execution_count": 47,
   "metadata": {},
   "outputs": [],
   "source": [
    "def generate_email():\n",
    "    return(''.join(random.choice(string.ascii_letters) for x in range(8)) + \"@gmail.com\")"
   ]
  },
  {
   "cell_type": "code",
   "execution_count": 63,
   "metadata": {},
   "outputs": [],
   "source": [
    "def generate_birthdate():\n",
    "    return str(datetime.datetime(random.randint(1950, 2000), random.randint(1, 12), random.randint(1, 28))).split(' ')[0]"
   ]
  },
  {
   "cell_type": "code",
   "execution_count": 111,
   "metadata": {},
   "outputs": [],
   "source": [
    "def generate_passengers(amount = 100):\n",
    "    with open('names.txt', 'r') as f:\n",
    "        names = f.readlines()\n",
    "    with open('surnames.txt', 'r') as f:\n",
    "        surnames = f.readlines()\n",
    "    with open('cities.txt', 'r') as f:\n",
    "        cities = f.readlines()\n",
    "    with open('countries.txt', 'r') as f:\n",
    "        countries = f.readlines()\n",
    "    buf_df = pd.DataFrame({\n",
    "        'passenger_id' : [i+1 for i in range(amount)],\n",
    "        'name' : [random.choice(names)[:-1] for j in range(amount)],\n",
    "        'surname' : [random.choice(surnames)[:-1] for j in range(amount)],\n",
    "        'phone' : [generate_phone() for i in range(amount)],\n",
    "        'e-mail' : [generate_email() for i in range(amount)],\n",
    "        'miles' : [0 for i in range(amount)],\n",
    "        'amount_spent' : [0 for i in range(amount)],\n",
    "        'birthdate' : [generate_birthdate() for i in range(amount)],\n",
    "        'country' : [random.choice(countries).split(' ')[0] for j in range(amount)],\n",
    "        'city' : [random.choice(cities)[:-1] for j in range(amount)]\n",
    "    }, columns=['passenger_id', 'name', 'surname', \n",
    "                'phone', 'e-mail', 'miles', 'amount_spent', \n",
    "                'birthdate', 'country', 'city'])\n",
    "\n",
    "    buf_df.to_csv('passengers.csv', sep=';', index=False, header=False)\n",
    "    return buf_df"
   ]
  },
  {
   "cell_type": "code",
   "execution_count": 113,
   "metadata": {},
   "outputs": [
    {
     "data": {
      "text/html": [
       "<div>\n",
       "<style scoped>\n",
       "    .dataframe tbody tr th:only-of-type {\n",
       "        vertical-align: middle;\n",
       "    }\n",
       "\n",
       "    .dataframe tbody tr th {\n",
       "        vertical-align: top;\n",
       "    }\n",
       "\n",
       "    .dataframe thead th {\n",
       "        text-align: right;\n",
       "    }\n",
       "</style>\n",
       "<table border=\"1\" class=\"dataframe\">\n",
       "  <thead>\n",
       "    <tr style=\"text-align: right;\">\n",
       "      <th></th>\n",
       "      <th>passenger_id</th>\n",
       "      <th>name</th>\n",
       "      <th>surname</th>\n",
       "      <th>phone</th>\n",
       "      <th>e-mail</th>\n",
       "      <th>miles</th>\n",
       "      <th>amount_spent</th>\n",
       "      <th>birthdate</th>\n",
       "      <th>country</th>\n",
       "      <th>city</th>\n",
       "    </tr>\n",
       "  </thead>\n",
       "  <tbody>\n",
       "    <tr>\n",
       "      <th>999995</th>\n",
       "      <td>999996</td>\n",
       "      <td>Серафима</td>\n",
       "      <td>Аргунов</td>\n",
       "      <td>5326281771</td>\n",
       "      <td>zsnyizRG@gmail.com</td>\n",
       "      <td>0</td>\n",
       "      <td>0</td>\n",
       "      <td>1990-07-28</td>\n",
       "      <td>Уоллис</td>\n",
       "      <td>Учалы</td>\n",
       "    </tr>\n",
       "    <tr>\n",
       "      <th>999996</th>\n",
       "      <td>999997</td>\n",
       "      <td>Каллисфения</td>\n",
       "      <td>Курасс</td>\n",
       "      <td>4640062894</td>\n",
       "      <td>WgeVYRHQ@gmail.com</td>\n",
       "      <td>0</td>\n",
       "      <td>0</td>\n",
       "      <td>1969-04-04</td>\n",
       "      <td>Доминиканская</td>\n",
       "      <td>Воронеж</td>\n",
       "    </tr>\n",
       "    <tr>\n",
       "      <th>999997</th>\n",
       "      <td>999998</td>\n",
       "      <td>Злата</td>\n",
       "      <td>Ахтамова</td>\n",
       "      <td>4477502421</td>\n",
       "      <td>EOIMlNIi@gmail.com</td>\n",
       "      <td>0</td>\n",
       "      <td>0</td>\n",
       "      <td>1992-06-23</td>\n",
       "      <td>Киргизия</td>\n",
       "      <td>Темрюк</td>\n",
       "    </tr>\n",
       "    <tr>\n",
       "      <th>999998</th>\n",
       "      <td>999999</td>\n",
       "      <td>Евдоким</td>\n",
       "      <td>Паршанин</td>\n",
       "      <td>1948862032</td>\n",
       "      <td>OBVBCkVZ@gmail.com</td>\n",
       "      <td>0</td>\n",
       "      <td>0</td>\n",
       "      <td>1999-07-11</td>\n",
       "      <td>Гвинея</td>\n",
       "      <td>Гусинозёрск</td>\n",
       "    </tr>\n",
       "    <tr>\n",
       "      <th>999999</th>\n",
       "      <td>1000000</td>\n",
       "      <td>Вышеслав</td>\n",
       "      <td>Абакирова</td>\n",
       "      <td>5689109289</td>\n",
       "      <td>lzoPsPyi@gmail.com</td>\n",
       "      <td>0</td>\n",
       "      <td>0</td>\n",
       "      <td>1950-06-02</td>\n",
       "      <td>Маврикий</td>\n",
       "      <td>Чернушка</td>\n",
       "    </tr>\n",
       "  </tbody>\n",
       "</table>\n",
       "</div>"
      ],
      "text/plain": [
       "        passenger_id         name    surname       phone              e-mail  \\\n",
       "999995        999996     Серафима    Аргунов  5326281771  zsnyizRG@gmail.com   \n",
       "999996        999997  Каллисфения     Курасс  4640062894  WgeVYRHQ@gmail.com   \n",
       "999997        999998        Злата   Ахтамова  4477502421  EOIMlNIi@gmail.com   \n",
       "999998        999999      Евдоким   Паршанин  1948862032  OBVBCkVZ@gmail.com   \n",
       "999999       1000000     Вышеслав  Абакирова  5689109289  lzoPsPyi@gmail.com   \n",
       "\n",
       "        miles  amount_spent   birthdate        country         city  \n",
       "999995      0             0  1990-07-28         Уоллис        Учалы  \n",
       "999996      0             0  1969-04-04  Доминиканская      Воронеж  \n",
       "999997      0             0  1992-06-23       Киргизия       Темрюк  \n",
       "999998      0             0  1999-07-11         Гвинея  Гусинозёрск  \n",
       "999999      0             0  1950-06-02       Маврикий     Чернушка  "
      ]
     },
     "execution_count": 113,
     "metadata": {},
     "output_type": "execute_result"
    }
   ],
   "source": [
    "df = generate_passengers(1000000)\n",
    "df.tail()"
   ]
  },
  {
   "cell_type": "code",
   "execution_count": 66,
   "metadata": {},
   "outputs": [],
   "source": [
    "def generate_place():\n",
    "    return (random.choice(string.ascii_letters) +\n",
    "            random.choice(string.ascii_letters) +\n",
    "            str(random.randint(1, 9)) +\n",
    "            str(random.randint(1, 9)))"
   ]
  },
  {
   "cell_type": "code",
   "execution_count": 67,
   "metadata": {},
   "outputs": [],
   "source": [
    "def generate_price():\n",
    "    return random.randint(10000, 100000)"
   ]
  },
  {
   "cell_type": "code",
   "execution_count": 68,
   "metadata": {},
   "outputs": [],
   "source": [
    "def generate_sum():\n",
    "    if random.randint(1, 10)>3:\n",
    "        return str(random.randint(1000, 10000))\n",
    "    else:\n",
    "        return '\"Cancel\"'"
   ]
  },
  {
   "cell_type": "code",
   "execution_count": 94,
   "metadata": {},
   "outputs": [],
   "source": [
    "def generate_text(menu):\n",
    "    return (\" \".join([random.choice(menu) for i in range(random.randint(10, 20))]) if random.randint(1, 100)==1 else \"\")"
   ]
  },
  {
   "cell_type": "code",
   "execution_count": 95,
   "metadata": {},
   "outputs": [],
   "source": [
    "def generate_json(menu):\n",
    "    gen = [('\"' + random.choice(menu)[:-1] + '\":' + generate_sum() ) for i in range(random.randint(1, 10))]\n",
    "    return \"{\" + ','.join(gen) + \"}\"\n",
    "    #return (\"{\" + \",\".join(gen) + \"}\")\n",
    "    #return \"{\\\"name\\\":123}\""
   ]
  },
  {
   "cell_type": "code",
   "execution_count": 117,
   "metadata": {},
   "outputs": [],
   "source": [
    "def generate_tickets(amount = 100, start=0):\n",
    "    with open('services.txt', 'r') as f:\n",
    "        services = f.readlines()\n",
    "    with open('countries.txt', 'r') as f:\n",
    "        countries = f.readlines()    \n",
    "    with open('descriptions.txt', 'r') as f:\n",
    "        description = f.read().split(' ')\n",
    "    with open(f'tickets{int(start/10000000)}.csv', 'w') as f:\n",
    "        for i in range(amount):\n",
    "            line = (f\"{start+i+1};{random.randint(1, 1000000)};{random.randint(1, 1000000)};\" +\n",
    "                    generate_place() + f\";{generate_price()};{True if (random.randint(1,10)>5) else False};\" +\n",
    "                    generate_json(services) + \";\" + generate_text(description) + \";\"  + generate_email() + \";\" +  str(generate_birthdate()) + \";\" + \n",
    "                    ('M' if (random.randint(1,10)>5) else 'W') + \";\" + random.choice(countries).split(' ')[0] + \"\\n\"\n",
    "                   )\n",
    "            f.write(line)"
   ]
  },
  {
   "cell_type": "code",
   "execution_count": 119,
   "metadata": {},
   "outputs": [],
   "source": [
    "generate_tickets(10000000, 0)\n",
    "generate_tickets(10000000, 10000000)"
   ]
  },
  {
   "cell_type": "code",
   "execution_count": 120,
   "metadata": {},
   "outputs": [],
   "source": [
    "generate_tickets(10000000, 20000000)\n",
    "generate_tickets(10000000, 30000000)"
   ]
  },
  {
   "cell_type": "code",
   "execution_count": null,
   "metadata": {},
   "outputs": [],
   "source": [
    "generate_tickets(10000000, 40000000)\n",
    "generate_tickets(10000000, 50000000)"
   ]
  },
  {
   "cell_type": "code",
   "execution_count": null,
   "metadata": {},
   "outputs": [],
   "source": [
    "generate_tickets(10000000, 60000000)\n",
    "generate_tickets(10000000, 70000000)"
   ]
  },
  {
   "cell_type": "code",
   "execution_count": null,
   "metadata": {},
   "outputs": [],
   "source": [
    "generate_tickets(10000000, 80000000)\n",
    "generate_tickets(10000000, 90000000)"
   ]
  },
  {
   "cell_type": "code",
   "execution_count": 73,
   "metadata": {},
   "outputs": [],
   "source": [
    "def generate_date():\n",
    "    # 2004-10-19 10:23:54\n",
    "    return (datetime.datetime(2020, 1, 1, 0, 0) + \n",
    "            datetime.timedelta(days=random.randint(0, 365),\n",
    "                               minutes=random.randint(0, 59), \n",
    "                               hours=random.randint(0, 23)))"
   ]
  },
  {
   "cell_type": "code",
   "execution_count": 80,
   "metadata": {},
   "outputs": [],
   "source": [
    "def generate_array(menu):\n",
    "    data = [('\"' + random.choice(menu)[:-1] +'\"') for i in range(random.randint(5, 10))]\n",
    "    return \"{\" + \",\".join(data) + \"}\""
   ]
  },
  {
   "cell_type": "code",
   "execution_count": 105,
   "metadata": {},
   "outputs": [],
   "source": [
    "def generate_cruises(amount = 100):\n",
    "    with open('descriptions.txt', 'r') as f:\n",
    "        description = f.read().split(' ')\n",
    "    with open('services.txt', 'r') as f:\n",
    "        services = f.readlines()\n",
    "    with open('cities.txt', 'r') as f:\n",
    "        cities = f.readlines()\n",
    "        \n",
    "    with open('cruises.csv', 'w') as f:\n",
    "        for i in range(amount):\n",
    "            line = (f\"{i+1};\" + random.choice(cities)[:-1] + \";\" +\n",
    "                    random.choice(cities)[:-1] + \";\" +\n",
    "                    random.choice(cities)[:-1] + \";\" +\n",
    "                    str(generate_date()) + \";\" +\n",
    "                    str(generate_date()) + \";\" +\n",
    "                    f\"{random.randint(100, 10000)};\" +\n",
    "                    generate_array(services) + \"\\n\"\n",
    "                    )\n",
    "            f.write(line)"
   ]
  },
  {
   "cell_type": "code",
   "execution_count": 106,
   "metadata": {},
   "outputs": [],
   "source": [
    "generate_cruises(1000000)"
   ]
  },
  {
   "cell_type": "code",
   "execution_count": null,
   "metadata": {},
   "outputs": [],
   "source": []
  }
 ],
 "metadata": {
  "kernelspec": {
   "display_name": "Python 3",
   "language": "python",
   "name": "python3"
  },
  "language_info": {
   "codemirror_mode": {
    "name": "ipython",
    "version": 3
   },
   "file_extension": ".py",
   "mimetype": "text/x-python",
   "name": "python",
   "nbconvert_exporter": "python",
   "pygments_lexer": "ipython3",
   "version": "3.6.9"
  }
 },
 "nbformat": 4,
 "nbformat_minor": 4
}
